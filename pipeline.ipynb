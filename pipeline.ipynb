{
 "cells": [
  {
   "cell_type": "markdown",
   "metadata": {},
   "source": [
    "# Iniciando o projeto com as importação das dependencias\n"
   ]
  },
  {
   "cell_type": "markdown",
   "metadata": {},
   "source": [
    "### FASE 1 - CONFIGURAÇÃO\n"
   ]
  },
  {
   "cell_type": "code",
   "execution_count": 6,
   "metadata": {},
   "outputs": [],
   "source": [
    "# imports do projeto\n",
    "\n",
    "import pandas as pd\n",
    "import gdown"
   ]
  },
  {
   "cell_type": "markdown",
   "metadata": {},
   "source": [
    "### FUNÇÕES\n"
   ]
  },
  {
   "cell_type": "code",
   "execution_count": 7,
   "metadata": {},
   "outputs": [],
   "source": [
    "def montar_estatisticas_dataFrame(originial, tratado):\n",
    "    total_registros = len(originial)\n",
    "    total_tratado = len(tratado)\n",
    "    dados_invalidos = total_registros - total_tratado\n",
    "    dados_validos = total_registros - dados_invalidos\n",
    "    percentual_erro = dados_invalidos / total_registros\n",
    "\n",
    "    # Exibir as métricas\n",
    "    print(f\"📊 Total de registros importados: {total_registros}\")\n",
    "    print(f\"✅ Registros válidos: {dados_validos}\")\n",
    "    print(f\"❌ Registros com erro: {dados_invalidos}\")\n",
    "    print(f\"% Registros com erro: {percentual_erro:.2f}%\")"
   ]
  },
  {
   "cell_type": "markdown",
   "metadata": {},
   "source": [
    "### FASE 2 - INGESTÃO\n"
   ]
  },
  {
   "cell_type": "code",
   "execution_count": 8,
   "metadata": {},
   "outputs": [
    {
     "ename": "FileNotFoundError",
     "evalue": "[WinError 3] O sistema não pode encontrar o caminho especificado: './dados'",
     "output_type": "error",
     "traceback": [
      "\u001b[1;31m---------------------------------------------------------------------------\u001b[0m",
      "\u001b[1;31mFileNotFoundError\u001b[0m                         Traceback (most recent call last)",
      "Cell \u001b[1;32mIn[8], line 4\u001b[0m\n\u001b[0;32m      2\u001b[0m path_url \u001b[38;5;241m=\u001b[39m \u001b[38;5;124m'\u001b[39m\u001b[38;5;124mhttps://drive.google.com/uc?export=download&id=1Vumu8jo3P3umuUtBZb6mn7YoVIo4X0ON\u001b[39m\u001b[38;5;124m'\u001b[39m\n\u001b[0;32m      3\u001b[0m path_local \u001b[38;5;241m=\u001b[39m \u001b[38;5;124m\"\u001b[39m\u001b[38;5;124m./dados/df_fraud_credit.csv\u001b[39m\u001b[38;5;124m\"\u001b[39m\n\u001b[1;32m----> 4\u001b[0m gdown\u001b[38;5;241m.\u001b[39mdownload(path_url, path_local, quiet\u001b[38;5;241m=\u001b[39m\u001b[38;5;28;01mFalse\u001b[39;00m)\n",
      "File \u001b[1;32mc:\\Users\\User\\anaconda3\\Lib\\site-packages\\gdown\\download.py:304\u001b[0m, in \u001b[0;36mdownload\u001b[1;34m(url, output, quiet, proxy, speed, use_cookies, verify, id, fuzzy, resume, format, user_agent, log_messages)\u001b[0m\n\u001b[0;32m    301\u001b[0m     \u001b[38;5;28;01mreturn\u001b[39;00m output\n\u001b[0;32m    303\u001b[0m existing_tmp_files \u001b[38;5;241m=\u001b[39m []\n\u001b[1;32m--> 304\u001b[0m \u001b[38;5;28;01mfor\u001b[39;00m file \u001b[38;5;129;01min\u001b[39;00m os\u001b[38;5;241m.\u001b[39mlistdir(osp\u001b[38;5;241m.\u001b[39mdirname(output) \u001b[38;5;129;01mor\u001b[39;00m \u001b[38;5;124m\"\u001b[39m\u001b[38;5;124m.\u001b[39m\u001b[38;5;124m\"\u001b[39m):\n\u001b[0;32m    305\u001b[0m     \u001b[38;5;28;01mif\u001b[39;00m file\u001b[38;5;241m.\u001b[39mstartswith(osp\u001b[38;5;241m.\u001b[39mbasename(output)) \u001b[38;5;129;01mand\u001b[39;00m file\u001b[38;5;241m.\u001b[39mendswith(\u001b[38;5;124m\"\u001b[39m\u001b[38;5;124m.part\u001b[39m\u001b[38;5;124m\"\u001b[39m):\n\u001b[0;32m    306\u001b[0m         existing_tmp_files\u001b[38;5;241m.\u001b[39mappend(osp\u001b[38;5;241m.\u001b[39mjoin(osp\u001b[38;5;241m.\u001b[39mdirname(output), file))\n",
      "\u001b[1;31mFileNotFoundError\u001b[0m: [WinError 3] O sistema não pode encontrar o caminho especificado: './dados'"
     ]
    }
   ],
   "source": [
    "# importando o dataframe\n",
    "path_url = 'https://drive.google.com/uc?export=download&id=1Vumu8jo3P3umuUtBZb6mn7YoVIo4X0ON'\n",
    "path_local = \"./dados/df_fraud_credit.csv\"\n",
    "gdown.download(path_url, path_local, quiet=False)"
   ]
  },
  {
   "cell_type": "code",
   "execution_count": null,
   "metadata": {},
   "outputs": [],
   "source": [
    "df = pd.read_csv(path_local)\n",
    "parquet_file = \"./dados/df_fraud_credit.parquet\"\n",
    "df.to_parquet(parquet_file, engine=\"pyarrow\", index=False)"
   ]
  },
  {
   "cell_type": "code",
   "execution_count": 12,
   "metadata": {},
   "outputs": [],
   "source": [
    "df_parquet = pd.read_parquet(parquet_file, engine=\"pyarrow\")"
   ]
  },
  {
   "cell_type": "markdown",
   "metadata": {},
   "source": [
    "### FASE 3 - TRATAMENTO DOS DADOS\n"
   ]
  },
  {
   "cell_type": "code",
   "execution_count": null,
   "metadata": {},
   "outputs": [],
   "source": [
    "zeroFilter = df_parquet.location_region != \"0\"\n",
    "dados_tratados = df_parquet.loc[zeroFilter]\n",
    "\n",
    "noneRiskScore = dados_tratados.risk_score != \"none\"\n",
    "dados_tratados = dados_tratados.loc[noneRiskScore]\n",
    "\n",
    "noneAmount = dados_tratados.amount != \"none\"\n",
    "dados_tratados = dados_tratados.loc[noneAmount]"
   ]
  },
  {
   "cell_type": "code",
   "execution_count": null,
   "metadata": {},
   "outputs": [],
   "source": [
    "montar_estatisticas_dataFrame(df, dados_tratados)"
   ]
  },
  {
   "cell_type": "code",
   "execution_count": 22,
   "metadata": {},
   "outputs": [],
   "source": [
    "dados_tratados[\"risk_score\"] = pd.to_numeric(dados_tratados[\"risk_score\"])"
   ]
  },
  {
   "cell_type": "code",
   "execution_count": 23,
   "metadata": {},
   "outputs": [],
   "source": [
    "tabela_risk_score = (\n",
    "    dados_tratados.groupby(\"location_region\")[\"risk_score\"]\n",
    "    .mean()\n",
    "    .reset_index()\n",
    "    .sort_values(by=\"risk_score\", ascending=False)\n",
    ")"
   ]
  },
  {
   "cell_type": "code",
   "execution_count": null,
   "metadata": {},
   "outputs": [],
   "source": [
    "print(tabela_risk_score.head())"
   ]
  },
  {
   "cell_type": "code",
   "execution_count": 25,
   "metadata": {},
   "outputs": [],
   "source": [
    "dados_tratados[\"timestamp\"] = pd.to_datetime(dados_tratados[\"timestamp\"])\n",
    "dados_tratados[\"amount\"] = dados_tratados[\"amount\"].values.astype(\"float64\")"
   ]
  },
  {
   "cell_type": "code",
   "execution_count": 26,
   "metadata": {},
   "outputs": [],
   "source": [
    "df_sale = dados_tratados[dados_tratados[\"transaction_type\"] == \"sale\"]"
   ]
  },
  {
   "cell_type": "code",
   "execution_count": 27,
   "metadata": {},
   "outputs": [],
   "source": [
    "df_recent = df_sale.sort_values(\n",
    "    by=[\"receiving_address\", \"timestamp\"], ascending=[True, False]\n",
    ")\n",
    "df_recent = df_recent.drop_duplicates(subset=[\"receiving_address\"], keep=\"first\")\n"
   ]
  },
  {
   "cell_type": "code",
   "execution_count": 28,
   "metadata": {},
   "outputs": [],
   "source": [
    "top_receiving_addresses = df_recent.nlargest(3, \"amount\")[\n",
    "    [\"receiving_address\", \"amount\", \"timestamp\"]\n",
    "]"
   ]
  },
  {
   "cell_type": "code",
   "execution_count": null,
   "metadata": {},
   "outputs": [],
   "source": [
    "print(\"\\n📌 Top 3 'receiving address' com maior 'amount':\")\n",
    "print(top_receiving_addresses)"
   ]
  }
 ],
 "metadata": {
  "kernelspec": {
   "display_name": "base",
   "language": "python",
   "name": "python3"
  },
  "language_info": {
   "codemirror_mode": {
    "name": "ipython",
    "version": 3
   },
   "file_extension": ".py",
   "mimetype": "text/x-python",
   "name": "python",
   "nbconvert_exporter": "python",
   "pygments_lexer": "ipython3",
   "version": "3.12.7"
  }
 },
 "nbformat": 4,
 "nbformat_minor": 2
}
