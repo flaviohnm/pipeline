{
 "cells": [
  {
   "cell_type": "markdown",
   "metadata": {},
   "source": [
    "# Iniciando o projeto com as importação das dependencias\n"
   ]
  },
  {
   "cell_type": "markdown",
   "metadata": {},
   "source": [
    "### FASE 1 - CONFIGURAÇÃO\n"
   ]
  },
  {
   "cell_type": "code",
   "execution_count": 1,
   "metadata": {},
   "outputs": [],
   "source": [
    "# imports do projeto\n",
    "\n",
    "import pandas as pd\n",
    "import gdown as gd\n",
    "import os\n",
    "from pathlib import Path"
   ]
  },
  {
   "cell_type": "markdown",
   "metadata": {},
   "source": [
    "### CONSTANTES"
   ]
  },
  {
   "cell_type": "code",
   "execution_count": 2,
   "metadata": {},
   "outputs": [],
   "source": [
    "# constanttes\n",
    "SOURCE_FOLDER = 'source'\n",
    "DF_FILE_NAME = 'df_fraud_credit'\n",
    "PARQUET = 'parquet'\n",
    "CSV = 'csv'"
   ]
  },
  {
   "cell_type": "markdown",
   "metadata": {},
   "source": [
    "### FUNÇÕES\n"
   ]
  },
  {
   "cell_type": "code",
   "execution_count": 3,
   "metadata": {},
   "outputs": [],
   "source": [
    "# função que criar os relatórios de Qualidade de Dados\n",
    "\n",
    "def montar_estatisticas_dataFrame(originial, tratado):\n",
    "    total_registros = len(originial)\n",
    "    total_tratado = len(tratado)\n",
    "    dados_invalidos = total_registros - total_tratado\n",
    "    dados_validos = total_registros - dados_invalidos\n",
    "    percentual_erro = dados_invalidos / total_registros\n",
    "\n",
    "    # Exibir as métricas\n",
    "    print(f\"📊 Total de registros importados: {total_registros}\")\n",
    "    print(f\"✅ Registros válidos: {dados_validos}\")\n",
    "    print(f\"❌ Registros com erro: {dados_invalidos}\")\n",
    "    print(f\"% Registros com erro: {percentual_erro:.2f}%\")"
   ]
  },
  {
   "cell_type": "code",
   "execution_count": 4,
   "metadata": {},
   "outputs": [],
   "source": [
    "# função para criação de pasta\n",
    "\n",
    "def criar_pasta(folderName):\n",
    "    os.makedirs(folderName, exist_ok=True)"
   ]
  },
  {
   "cell_type": "code",
   "execution_count": 5,
   "metadata": {},
   "outputs": [],
   "source": [
    "# função para montar a string do caminho do arquivo\n",
    "def makeFolderName(folder, fileName, fileFormat):\n",
    "    return \"./{}/{}.{}\".format(folder, fileName, fileFormat)"
   ]
  },
  {
   "cell_type": "code",
   "execution_count": 6,
   "metadata": {},
   "outputs": [],
   "source": [
    "# função que checa se o arquivo já existe na pasta antes de fazer o download\n",
    "def fileExistis():\n",
    "    csvFile = makeFolderName(SOURCE_FOLDER, DF_FILE_NAME, CSV)\n",
    "    parquetFile = makeFolderName(SOURCE_FOLDER, DF_FILE_NAME, PARQUET)\n",
    "\n",
    "    file_path = Path(csvFile)\n",
    "    if not file_path.exists():\n",
    "        print(\"Start downloading fileName: {}.csv\".format(DF_FILE_NAME))\n",
    "        url = \"https://drive.google.com/uc?export=download&id=1Vumu8jo3P3umuUtBZb6mn7YoVIo4X0ON\"\n",
    "        gd.download(url, csvFile, quiet=False)\n",
    "        print(\"Finished download fileName: {}\".format(DF_FILE_NAME))\n",
    "        # conversão do dataFrame do formato csv para parquet para reduzir o tamanho do arquivo\n",
    "        originalData = pd.read_csv(csvFile)\n",
    "        print(\"Start parquetFile converter: {}\".format(DF_FILE_NAME))\n",
    "        originalData.to_parquet(parquetFile, engine=\"pyarrow\", index=False)\n",
    "        print(\"Finished parquetFile converter: {}\".format(DF_FILE_NAME))\n",
    "    else:\n",
    "        # conversão do dataFrame do formato csv para parquet para reduzir o tamanho do arquivo\n",
    "        print(\"Start load file {}.csv\".format(DF_FILE_NAME))\n",
    "        originalData = pd.read_csv(csvFile)\n",
    "        print(\"Finished load file {}.csv\".format(DF_FILE_NAME))\n",
    "        print(\"Start parquetFile converter: {}.parquet\".format(DF_FILE_NAME))\n",
    "        originalData.to_parquet(parquetFile, engine=\"pyarrow\", index=False)\n",
    "        print(\"Finished parquetFile converter: {}.parquet\".format(DF_FILE_NAME))"
   ]
  },
  {
   "cell_type": "markdown",
   "metadata": {},
   "source": [
    "### FASE 2 - INGESTÃO\n"
   ]
  },
  {
   "cell_type": "code",
   "execution_count": 7,
   "metadata": {},
   "outputs": [],
   "source": [
    "# criar a pasta pouso para receber os dados\n",
    "criar_pasta(SOURCE_FOLDER)"
   ]
  },
  {
   "cell_type": "code",
   "execution_count": null,
   "metadata": {},
   "outputs": [
    {
     "name": "stdout",
     "output_type": "stream",
     "text": [
      "Start downloading fileName: df_fraud_credit.csv\n"
     ]
    }
   ],
   "source": [
    "# download dos dados da origem\n",
    "fileExistis()\n"
   ]
  },
  {
   "cell_type": "code",
   "execution_count": null,
   "metadata": {},
   "outputs": [],
   "source": [
    "# carregando o dataFrame a partir do arquivo no formato parquet\n",
    "parquetFile = makeFolderName(SOURCE_FOLDER, DF_FILE_NAME, PARQUET)\n",
    "initialData = pd.read_parquet(parquetFile, engine=\"pyarrow\")"
   ]
  },
  {
   "cell_type": "markdown",
   "metadata": {},
   "source": [
    "### FASE 3 - TRATAMENTO DOS DADOS\n"
   ]
  },
  {
   "cell_type": "code",
   "execution_count": 9,
   "metadata": {},
   "outputs": [],
   "source": [
    "zeroFilter = initialData.location_region != \"0\"\n",
    "processingData = initialData.loc[zeroFilter]\n",
    "\n",
    "noneRiskScoreFilter = processingData.risk_score != \"none\"\n",
    "processingData = processingData.loc[noneRiskScoreFilter]\n",
    "\n",
    "noneAmountFilter = processingData.amount != \"none\"\n",
    "processingData = processingData.loc[noneAmountFilter]"
   ]
  },
  {
   "cell_type": "code",
   "execution_count": null,
   "metadata": {},
   "outputs": [],
   "source": [
    "montar_estatisticas_dataFrame(initialData, processingData)"
   ]
  },
  {
   "cell_type": "code",
   "execution_count": 12,
   "metadata": {},
   "outputs": [],
   "source": [
    "processingData[\"risk_score\"] = pd.to_numeric(processingData[\"risk_score\"])"
   ]
  },
  {
   "cell_type": "code",
   "execution_count": 13,
   "metadata": {},
   "outputs": [],
   "source": [
    "riskScoreTable = (\n",
    "    processingData.groupby(\"location_region\")[\"risk_score\"]\n",
    "    .mean()\n",
    "    .reset_index()\n",
    "    .sort_values(by=\"risk_score\", ascending=False)\n",
    ")"
   ]
  },
  {
   "cell_type": "code",
   "execution_count": null,
   "metadata": {},
   "outputs": [],
   "source": [
    "print(riskScoreTable.head())"
   ]
  },
  {
   "cell_type": "code",
   "execution_count": 15,
   "metadata": {},
   "outputs": [],
   "source": [
    "# converter todos os dados da coluna timestamp para o formato dateTime\n",
    "processingData[\"timestamp\"] = pd.to_datetime(processingData[\"timestamp\"])\n",
    "\n",
    "# converter todos os dados da coluna amount para o formato Float64\n",
    "processingData[\"amount\"] = processingData[\"amount\"].values.astype(\"float64\")"
   ]
  },
  {
   "cell_type": "code",
   "execution_count": 16,
   "metadata": {},
   "outputs": [],
   "source": [
    "salesData = processingData[processingData[\"transaction_type\"] == \"sale\"]"
   ]
  },
  {
   "cell_type": "code",
   "execution_count": null,
   "metadata": {},
   "outputs": [],
   "source": [
    "salesData.head(n=50)"
   ]
  },
  {
   "cell_type": "code",
   "execution_count": 21,
   "metadata": {},
   "outputs": [],
   "source": [
    "recentTransactions = salesData.sort_values(\n",
    "    by=[\"receiving_address\", \"timestamp\"], ascending=[True, False]\n",
    ")\n",
    "recentTransactions = recentTransactions.drop_duplicates(subset=[\"receiving_address\"], keep=\"first\")\n"
   ]
  },
  {
   "cell_type": "code",
   "execution_count": 22,
   "metadata": {},
   "outputs": [],
   "source": [
    "topRecentTransactions = recentTransactions.nlargest(3, \"amount\")[\n",
    "    [\"receiving_address\", \"amount\", \"timestamp\"]\n",
    "]"
   ]
  },
  {
   "cell_type": "code",
   "execution_count": null,
   "metadata": {},
   "outputs": [],
   "source": [
    "print(\"\\n📌 Top 3 'receiving address' com maior 'amount':\")\n",
    "print(topRecentTransactions)"
   ]
  }
 ],
 "metadata": {
  "kernelspec": {
   "display_name": "base",
   "language": "python",
   "name": "python3"
  },
  "language_info": {
   "codemirror_mode": {
    "name": "ipython",
    "version": 3
   },
   "file_extension": ".py",
   "mimetype": "text/x-python",
   "name": "python",
   "nbconvert_exporter": "python",
   "pygments_lexer": "ipython3",
   "version": "3.12.7"
  }
 },
 "nbformat": 4,
 "nbformat_minor": 2
}
