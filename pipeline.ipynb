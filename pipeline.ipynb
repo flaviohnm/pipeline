{
 "cells": [
  {
   "cell_type": "markdown",
   "metadata": {},
   "source": [
    "# Iniciando o projeto com as importação das dependencias\n"
   ]
  },
  {
   "cell_type": "markdown",
   "metadata": {},
   "source": [
    "### FASE 1 - CONFIGURAÇÃO\n"
   ]
  },
  {
   "cell_type": "code",
   "execution_count": 5,
   "metadata": {},
   "outputs": [],
   "source": [
    "# imports do projeto\n",
    "\n",
    "import pandas as pd\n",
    "import gdown"
   ]
  },
  {
   "cell_type": "markdown",
   "metadata": {},
   "source": [
    "### FUNÇÕES\n"
   ]
  },
  {
   "cell_type": "code",
   "execution_count": 2,
   "metadata": {},
   "outputs": [],
   "source": [
    "def montar_estatisticas_dataFrame(originial, tratado):\n",
    "    total_registros = len(originial)\n",
    "    total_tratado = len(tratado)\n",
    "    dados_invalidos = total_registros - total_tratado\n",
    "    dados_validos = total_registros - dados_invalidos\n",
    "    percentual_erro = dados_invalidos / total_registros\n",
    "\n",
    "    # Exibir as métricas\n",
    "    print(f\"📊 Total de registros importados: {total_registros}\")*+\n",
    "    print(f\"✅ Registros válidos: {dados_validos}\")\n",
    "    print(f\"❌ Registros com erro: {dados_invalidos}\")\n",
    "    print(f\"% Registros com erro: {percentual_erro:.2f}%\")"
   ]
  },
  {
   "cell_type": "markdown",
   "metadata": {},
   "source": [
    "### FASE 2 - INGESTÃO\n"
   ]
  },
  {
   "cell_type": "code",
   "execution_count": null,
   "metadata": {},
   "outputs": [],
   "source": [
    "# importando o dataframe\n",
    "path_url = 'https://drive.google.com/uc?export=download&id=1Vumu8jo3P3umuUtBZb6mn7YoVIo4X0ON'\n",
    "path_local = \"./dados/df_fraud_credit.csv\"\n",
    "gdown.download(path_url, path_local, quiet=False)"
   ]
  },
  {
   "cell_type": "code",
   "execution_count": null,
   "metadata": {},
   "outputs": [],
   "source": [
    "df = pd.read_csv(path_local)\n",
    "parquet_file = \"./dados/df_fraud_credit.parquet\"\n",
    "df.to_parquet(parquet_file, engine=\"pyarrow\", index=False)"
   ]
  },
  {
   "cell_type": "code",
   "execution_count": 12,
   "metadata": {},
   "outputs": [],
   "source": [
    "df_parquet = pd.read_parquet(parquet_file, engine=\"pyarrow\")"
   ]
  },
  {
   "cell_type": "markdown",
   "metadata": {},
   "source": [
    "### FASE 3 - TRATAMENTO DOS DADOS\n"
   ]
  },
  {
   "cell_type": "code",
   "execution_count": null,
   "metadata": {},
   "outputs": [],
   "source": [
    "zeroFilter = df_parquet.location_region != \"0\"\n",
    "dados_tratados = df_parquet.loc[zeroFilter]\n",
    "\n",
    "noneRiskScore = dados_tratados.risk_score != \"none\"\n",
    "dados_tratados = dados_tratados.loc[noneRiskScore]\n",
    "\n",
    "noneAmount = dados_tratados.amount != \"none\"\n",
    "dados_tratados = dados_tratados.loc[noneAmount]"
   ]
  },
  {
   "cell_type": "code",
   "execution_count": null,
   "metadata": {},
   "outputs": [],
   "source": [
    "montar_estatisticas_dataFrame(df, dados_tratados)"
   ]
  },
  {
   "cell_type": "code",
   "execution_count": 22,
   "metadata": {},
   "outputs": [],
   "source": [
    "dados_tratados[\"risk_score\"] = pd.to_numeric(dados_tratados[\"risk_score\"])"
   ]
  },
  {
   "cell_type": "code",
   "execution_count": 23,
   "metadata": {},
   "outputs": [],
   "source": [
    "tabela_risk_score = (\n",
    "    dados_tratados.groupby(\"location_region\")[\"risk_score\"]\n",
    "    .mean()\n",
    "    .reset_index()\n",
    "    .sort_values(by=\"risk_score\", ascending=False)\n",
    ")"
   ]
  },
  {
   "cell_type": "code",
   "execution_count": null,
   "metadata": {},
   "outputs": [],
   "source": [
    "print(tabela_risk_score.head())"
   ]
  },
  {
   "cell_type": "code",
   "execution_count": 25,
   "metadata": {},
   "outputs": [],
   "source": [
    "dados_tratados[\"timestamp\"] = pd.to_datetime(dados_tratados[\"timestamp\"])\n",
    "dados_tratados[\"amount\"] = dados_tratados[\"amount\"].values.astype(\"float64\")"
   ]
  },
  {
   "cell_type": "code",
   "execution_count": 26,
   "metadata": {},
   "outputs": [],
   "source": [
    "df_sale = dados_tratados[dados_tratados[\"transaction_type\"] == \"sale\"]"
   ]
  },
  {
   "cell_type": "code",
   "execution_count": 27,
   "metadata": {},
   "outputs": [],
   "source": [
    "df_recent = df_sale.sort_values(\n",
    "    by=[\"receiving_address\", \"timestamp\"], ascending=[True, False]\n",
    ")\n",
    "df_recent = df_recent.drop_duplicates(subset=[\"receiving_address\"], keep=\"first\")\n"
   ]
  },
  {
   "cell_type": "code",
   "execution_count": 28,
   "metadata": {},
   "outputs": [],
   "source": [
    "top_receiving_addresses = df_recent.nlargest(3, \"amount\")[\n",
    "    [\"receiving_address\", \"amount\", \"timestamp\"]\n",
    "]"
   ]
  },
  {
   "cell_type": "code",
   "execution_count": null,
   "metadata": {},
   "outputs": [],
   "source": [
    "print(\"\\n📌 Top 3 'receiving address' com maior 'amount':\")\n",
    "print(top_receiving_addresses)"
   ]
  }
 ],
 "metadata": {
  "kernelspec": {
   "display_name": "base",
   "language": "python",
   "name": "python3"
  },
  "language_info": {
   "codemirror_mode": {
    "name": "ipython",
    "version": 3
   },
   "file_extension": ".py",
   "mimetype": "text/x-python",
   "name": "python",
   "nbconvert_exporter": "python",
   "pygments_lexer": "ipython3",
   "version": "3.12.7"
  }
 },
 "nbformat": 4,
 "nbformat_minor": 2
}
